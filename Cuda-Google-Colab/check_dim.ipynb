{
  "cells": [
    {
      "cell_type": "code",
      "execution_count": 1,
      "metadata": {
        "colab": {
          "base_uri": "https://localhost:8080/"
        },
        "id": "FJNaVYXrsyX1",
        "outputId": "cd2853ec-80fd-4f20-9109-a49ac0502937"
      },
      "outputs": [
        {
          "name": "stdout",
          "output_type": "stream",
          "text": [
            "bin  etc  games  include  lib  man  sbin  share  src\n"
          ]
        }
      ],
      "source": [
        "# To show that if there is cuda tookit installed\n",
        "!ls /usr/local"
      ]
    },
    {
      "cell_type": "code",
      "execution_count": 2,
      "metadata": {
        "colab": {
          "base_uri": "https://localhost:8080/"
        },
        "id": "EWeDREa1tIGH",
        "outputId": "f11a509c-f49c-43db-cd24-3ba96694f70f"
      },
      "outputs": [
        {
          "name": "stdout",
          "output_type": "stream",
          "text": [
            "/home/student_15030/cudaProj/cuda-12.4/bin/nvcc\n"
          ]
        }
      ],
      "source": [
        "# To show that if we have the nvcc command\n",
        "!which nvcc"
      ]
    },
    {
      "cell_type": "code",
      "execution_count": 3,
      "metadata": {
        "colab": {
          "base_uri": "https://localhost:8080/"
        },
        "id": "hctj5aYxtSwK",
        "outputId": "a3351320-6577-49c0-de59-bb772f09cbcc"
      },
      "outputs": [
        {
          "name": "stdout",
          "output_type": "stream",
          "text": [
            "Wed Jun  4 13:04:02 2025       \n",
            "+-----------------------------------------------------------------------------------------+\n",
            "| NVIDIA-SMI 550.120                Driver Version: 550.120        CUDA Version: 12.4     |\n",
            "|-----------------------------------------+------------------------+----------------------+\n",
            "| GPU  Name                 Persistence-M | Bus-Id          Disp.A | Volatile Uncorr. ECC |\n",
            "| Fan  Temp   Perf          Pwr:Usage/Cap |           Memory-Usage | GPU-Util  Compute M. |\n",
            "|                                         |                        |               MIG M. |\n",
            "|=========================================+========================+======================|\n",
            "|   0  NVIDIA RTX A6000               Off |   00000000:11:00.0 Off |                  Off |\n",
            "| 30%   32C    P8             16W /  300W |     398MiB /  49140MiB |      0%      Default |\n",
            "|                                         |                        |                  N/A |\n",
            "+-----------------------------------------+------------------------+----------------------+\n",
            "                                                                                         \n",
            "+-----------------------------------------------------------------------------------------+\n",
            "| Processes:                                                                              |\n",
            "|  GPU   GI   CI        PID   Type   Process name                              GPU Memory |\n",
            "|        ID   ID                                                               Usage      |\n",
            "|=========================================================================================|\n",
            "|    0   N/A  N/A      3271      G   /usr/lib/xorg/Xorg                            251MiB |\n",
            "|    0   N/A  N/A      3647      G   /usr/bin/gnome-shell                          136MiB |\n",
            "+-----------------------------------------------------------------------------------------+\n"
          ]
        }
      ],
      "source": [
        "# To show the property of the nvidia card(On my one, I use the K80)\n",
        "!nvidia-smi"
      ]
    },
    {
      "cell_type": "code",
      "execution_count": 4,
      "metadata": {
        "colab": {
          "base_uri": "https://localhost:8080/"
        },
        "id": "OmQ-PLNKhX2f",
        "outputId": "4219494e-3bb4-44d8-c59e-73f1cccb82e2"
      },
      "outputs": [
        {
          "name": "stdout",
          "output_type": "stream",
          "text": [
            "Writing check_dim.cu\n"
          ]
        }
      ],
      "source": [
        "%%writefile check_dim.cu\n",
        "\n",
        "#include <cuda_runtime.h>\n",
        "#include <stdio.h>\n",
        "__global__ void checkIndex(void)\n",
        "{\n",
        "  // gridDim is for the BlockIdx, blockDim is for the threadIdx.\n",
        "  printf(\"threadIdx:(%d,%d,%d) blockIdx:(%d,%d,%d) blockDim:(%d,%d,%d)\\\n",
        "  gridDim(%d,%d,%d)\\n\",threadIdx.x,threadIdx.y,threadIdx.z,\n",
        "  blockIdx.x,blockIdx.y,blockIdx.z,blockDim.x,blockDim.y,blockDim.z,\n",
        "  gridDim.x,gridDim.y,gridDim.z);\n",
        "}\n",
        "int main(int argc,char **argv)\n",
        "{\n",
        "  int nElem=6;\n",
        "  dim3 block(3);\n",
        "  // block.x = 3, the following line is grid(2) \n",
        "  dim3 grid((nElem+block.x-1)/block.x);\n",
        "  printf(\"grid.x %d grid.y %d grid.z %d\\n\",grid.x,grid.y,grid.z);\n",
        "  printf(\"block.x %d block.y %d block.z %d\\n\",block.x,block.y,block.z);\n",
        "  checkIndex<<<grid,block>>>();\n",
        "  cudaDeviceReset();\n",
        "  return 0;\n",
        "}"
      ]
    },
    {
      "cell_type": "code",
      "execution_count": 5,
      "metadata": {
        "colab": {
          "base_uri": "https://localhost:8080/"
        },
        "id": "7wTtatxRtii9",
        "outputId": "45361ccd-7011-4b69-c46a-dbb3721e3099"
      },
      "outputs": [],
      "source": [
        "# Compile the code. The flag is needed if you use the Tesla K80.  \n",
        "!nvcc -arch=sm_75 check_dim.cu -o check_dim"
      ]
    },
    {
      "cell_type": "code",
      "execution_count": 6,
      "metadata": {
        "colab": {
          "base_uri": "https://localhost:8080/"
        },
        "id": "fMTrRs5XujfU",
        "outputId": "e2106b00-07ad-4bf8-dae0-b752e10efb7d"
      },
      "outputs": [
        {
          "name": "stdout",
          "output_type": "stream",
          "text": [
            "grid.x 2 grid.y 1 grid.z 1\n",
            "block.x 3 block.y 1 block.z 1\n",
            "threadIdx:(0,0,0) blockIdx:(1,0,0) blockDim:(3,1,1)  gridDim(2,1,1)\n",
            "threadIdx:(1,0,0) blockIdx:(1,0,0) blockDim:(3,1,1)  gridDim(2,1,1)\n",
            "threadIdx:(2,0,0) blockIdx:(1,0,0) blockDim:(3,1,1)  gridDim(2,1,1)\n",
            "threadIdx:(0,0,0) blockIdx:(0,0,0) blockDim:(3,1,1)  gridDim(2,1,1)\n",
            "threadIdx:(1,0,0) blockIdx:(0,0,0) blockDim:(3,1,1)  gridDim(2,1,1)\n",
            "threadIdx:(2,0,0) blockIdx:(0,0,0) blockDim:(3,1,1)  gridDim(2,1,1)\n"
          ]
        }
      ],
      "source": [
        "!./check_dim"
      ]
    }
  ],
  "metadata": {
    "accelerator": "GPU",
    "colab": {
      "collapsed_sections": [],
      "name": "check_dim.ipynb",
      "provenance": []
    },
    "kernelspec": {
      "display_name": "Python 3",
      "name": "python3"
    },
    "language_info": {
      "name": "python"
    }
  },
  "nbformat": 4,
  "nbformat_minor": 0
}
